{
 "cells": [
  {
   "cell_type": "code",
   "execution_count": null,
   "metadata": {},
   "outputs": [],
   "source": [
    "import pickle\n",
    "import numpy as np\n",
    "from sklearn.manifold import TSNE\n",
    "from sklearn.decomposition import PCA\n",
    "import pandas as pd\n",
    "import plotly.express as px\n",
    "import os\n",
    "from dash import Dash, dcc\n",
    "from dash import dcc, html, Input, Output, no_update\n",
    "import plotly.graph_objects as go\n",
    "from PIL import Image\n",
    "from io import BytesIO\n",
    "import base64"
   ]
  },
  {
   "cell_type": "code",
   "execution_count": 113,
   "metadata": {},
   "outputs": [],
   "source": [
    "video = \"1ReZIMmD_8E\"\n",
    "# video = \"0wBYFahr3uI\"\n",
    "video = \"0f39OWEqJ24\"\n",
    "\n",
    "def load_data(base_path, video,file_range=range(1, 2000)):\n",
    "    embeddings = []\n",
    "    images = []\n",
    "    for i in file_range:\n",
    "        file_prefix = f\"{video}\"\n",
    "        frame = str(i).zfill(6)\n",
    "        emb_file = os.path.join(base_path, f\"{file_prefix}_{frame}_emb.pkl\")\n",
    "        bbox_file = os.path.join(base_path, f\"{file_prefix}_{frame}_img.pkl\")\n",
    "        \n",
    "        try:\n",
    "            with open(emb_file, 'rb') as f:\n",
    "                emb = pickle.load(f)\n",
    "                embeddings.append(emb)\n",
    "            \n",
    "            with open(bbox_file, 'rb') as f:\n",
    "                bbox = pickle.load(f)\n",
    "                if bbox.dtype == np.float32:\n",
    "                    bbox = bbox.astype(np.uint8)\n",
    "                images.append(bbox)  # Assuming bbox contains image data or path\n",
    "        except:\n",
    "            continue\n",
    "    \n",
    "    return np.concatenate(embeddings), images\n",
    "\n",
    "embeddings, images = load_data(os.path.join('/home/neerja/neerja_PHALP/facenet_embeddings', video), video)"
   ]
  },
  {
   "cell_type": "code",
   "execution_count": 114,
   "metadata": {},
   "outputs": [
    {
     "name": "stderr",
     "output_type": "stream",
     "text": [
      "/home/neerja/anaconda3/envs/viz-ipynb/lib/python3.10/site-packages/sklearn/manifold/_t_sne.py:1162: FutureWarning:\n",
      "\n",
      "'n_iter' was renamed to 'max_iter' in version 1.5 and will be removed in 1.7.\n",
      "\n"
     ]
    }
   ],
   "source": [
    "components = 2\n",
    "perpelexity = 30\n",
    "n_iter = 1000\n",
    "tsne = TSNE(n_components=components, perplexity=perpelexity, n_iter=n_iter)\n",
    "reduced_embeddings = tsne.fit_transform(embeddings)"
   ]
  },
  {
   "cell_type": "code",
   "execution_count": 115,
   "metadata": {},
   "outputs": [
    {
     "name": "stdout",
     "output_type": "stream",
     "text": [
      "(372, 357, 3)\n"
     ]
    }
   ],
   "source": [
    "# Convert NumPy arrays to base64 encoded strings for HTML embedding\n",
    "embeddings = reduced_embeddings\n",
    "def numpy_array_to_base64(img_array):\n",
    "    if img_array.shape[0] == 3: \n",
    "        img_array = img_array.transpose(1, 2, 0)  # Change to channel-last format (height, width, channels)\n",
    "    # Ensure data type is uint8\n",
    "    if img_array.dtype != np.uint8:\n",
    "        img_array = np.clip(img_array*255, 0, 255).astype(np.uint8)\n",
    "    # print(img_array.shape)\n",
    "    img_array = img_array[:, :, ::-1] # BGR to RGB\n",
    "    pil_img = Image.fromarray(img_array)\n",
    "    buff = BytesIO()\n",
    "    pil_img.save(buff, format=\"JPEG\")\n",
    "    return base64.b64encode(buff.getvalue()).decode(\"utf-8\")\n",
    "\n",
    "print(images[0].shape)\n",
    "base64_images = [numpy_array_to_base64(img) for img in images]\n",
    "\n",
    "# Create a DataFrame\n",
    "df = pd.DataFrame(embeddings, columns=['TSNE1', 'TSNE2'])\n",
    "# Add a small random jitter to t-SNE embeddings so that images with identical embedding can be viewed\n",
    "jitter = 0.1  \n",
    "df['TSNE1'] += np.random.normal(0, jitter, df.shape[0])\n",
    "df['TSNE2'] += np.random.normal(0, jitter, df.shape[0])\n",
    "\n",
    "df['Image'] = base64_images"
   ]
  },
  {
   "cell_type": "code",
   "execution_count": null,
   "metadata": {},
   "outputs": [],
   "source": [
    "\n",
    "fig = go.Figure(data=[\n",
    "    go.Scatter(\n",
    "        x=df[\"TSNE1\"],\n",
    "        y=df[\"TSNE2\"],\n",
    "        mode=\"markers\",\n",
    "        marker=dict(\n",
    "            color='LightSkyBlue',\n",
    "            size=5,\n",
    "            line=dict(\n",
    "                color='DarkSlateGrey',\n",
    "                width=2\n",
    "            )\n",
    "        )\n",
    "    )\n",
    "])\n",
    "fig.update_traces(hoverinfo=\"none\", hovertemplate=None)\n",
    "\n",
    "fig.update_layout(\n",
    "    title={\n",
    "        'text': \"FaceID TSNE \" + video,\n",
    "        'y':0.9,\n",
    "        'x':0.5,\n",
    "        'xanchor': 'center',\n",
    "        'yanchor': 'top'\n",
    "    },\n",
    "    xaxis=dict(title='TSNE Dimension 1'),\n",
    "    yaxis=dict(title='TSNE Dimension 2'),\n",
    "    plot_bgcolor='rgba(255,255,255,0.1)'\n",
    ")\n",
    "\n",
    "app = Dash(__name__)\n",
    "\n",
    "app.layout = html.Div([\n",
    "    dcc.Graph(id=\"graph\", figure=fig, clear_on_unhover=True),\n",
    "    dcc.Tooltip(id=\"graph-tooltip\"),\n",
    "])\n",
    "\n",
    "@app.callback(\n",
    "    Output(\"graph-tooltip\", \"show\"),\n",
    "    Output(\"graph-tooltip\", \"bbox\"),\n",
    "    Output(\"graph-tooltip\", \"children\"),\n",
    "    Input(\"graph\", \"hoverData\"),\n",
    ")\n",
    "def display_hover(hoverData):\n",
    "    if hoverData is None:\n",
    "        return False, no_update, no_update\n",
    "\n",
    "    pt = hoverData[\"points\"][0]\n",
    "    bbox = pt[\"bbox\"]\n",
    "    num = pt[\"pointNumber\"]\n",
    "\n",
    "    df_row = df.iloc[num]\n",
    "    img_base64 = df_row['Image']\n",
    "    img_html = f\"data:image/jpeg;base64,{img_base64}\"\n",
    "\n",
    "    children = [\n",
    "        html.Div(children=[\n",
    "            html.Img(src=img_html, style={\"width\": \"100%\", \"height\": \"auto\"}),\n",
    "        ], style={'width': '200px', 'white-space': 'normal'})\n",
    "    ]\n",
    "\n",
    "    return True, bbox, children\n",
    "\n",
    "if __name__ == \"__main__\":\n",
    "    # app.run_server(debug=True, mode='external')\n",
    "    app.run_server(mode='inline', port=8081) \n",
    "    # neerja note: need to `ssh -L 8081:localhost:8081 neerja@em12.ist.berkeley.edu` to get this to display"
   ]
  },
  {
   "cell_type": "code",
   "execution_count": null,
   "metadata": {},
   "outputs": [],
   "source": []
  },
  {
   "cell_type": "code",
   "execution_count": null,
   "metadata": {},
   "outputs": [],
   "source": []
  }
 ],
 "metadata": {
  "kernelspec": {
   "display_name": "Python 3 (ipykernel)",
   "language": "python",
   "name": "python3"
  },
  "language_info": {
   "codemirror_mode": {
    "name": "ipython",
    "version": 3
   },
   "file_extension": ".py",
   "mimetype": "text/x-python",
   "name": "python",
   "nbconvert_exporter": "python",
   "pygments_lexer": "ipython3",
   "version": "3.10.14"
  }
 },
 "nbformat": 4,
 "nbformat_minor": 4
}
